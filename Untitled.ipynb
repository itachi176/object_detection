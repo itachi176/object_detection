{
 "cells": [
  {
   "cell_type": "code",
   "execution_count": 1,
   "id": "d6ef4f47",
   "metadata": {},
   "outputs": [],
   "source": [
    "import torch "
   ]
  },
  {
   "cell_type": "code",
   "execution_count": 9,
   "id": "fa8d4ca7",
   "metadata": {},
   "outputs": [],
   "source": [
    "def nms(p: torch.tensor, thresh_iou: float):\n",
    "    x1 = p[:, 0]\n",
    "    x2 = p[:, 1]\n",
    "    y1 = p[:, 2]\n",
    "    y2 = p[:, 3]\n",
    "    scores = p[:, 4]\n",
    "    areas = (x2-x1)*(y2-y1)\n",
    "    order = scores.argsort() # tim vi tri cua phan tu co gia tri lon nhat trong scores\n",
    "    keep = []\n",
    "    \n",
    "    while(len(order) > 0):\n",
    "        idx = order[-1] # phan tu lan nhat\n",
    "        keep.append(p[idx]) # them phan tu do vao keep \n",
    "        order = order[:-1] #loai bo phan tu lon nhat khoi order \n",
    "        xx1 = torch.index_select(x1, dim = 0, index = order) # tim toa do cua diem ngoai tru diem lon nhat  \n",
    "        yy1 = torch.index_select(y1, dim = 0, index = order)\n",
    "        xx2 = torch.index_select(x2, dim = 0, index = order)\n",
    "        yy2 = torch.index_select(y2, dim = 0, index = order)\n",
    "        \n",
    "        #\n",
    "        xx1 = torch.max(xx1, x1[idx])\n",
    "        yy1 = torch.max(yy1, y1[idx])\n",
    "        xx2 = torch.min(xx2, x2[idx])\n",
    "        yy2 = torch.min(yy2, y2[idx])\n",
    "        \n",
    "        w = xx2 - xx1 \n",
    "        h = yy2 - yy1 \n",
    "        \n",
    "        w = torch.clamp(w, min = 0.0)\n",
    "        h = torch.clamp(h, min = 0.0)\n",
    "        \n",
    "        #tim area box giao voi box predict \n",
    "        inter = w*h\n",
    "        rem_areas = torch.index_select(areas, dim = 0, index = order) # area cua box co score cao nhat \n",
    "        #tim tong area cac box \n",
    "        union = (rem_areas - inter) + areas[idx]\n",
    "        IoU = inter/union\n",
    "        mask = IoU < thresh_iou\n",
    "\n",
    "        order = order[mask]\n",
    "        \n",
    "        return keep \n",
    "        "
   ]
  },
  {
   "cell_type": "code",
   "execution_count": 52,
   "id": "953cf58b",
   "metadata": {},
   "outputs": [
    {
     "data": {
      "text/plain": [
       "[tensor([1.0000, 0.9000, 3.6000, 3.0000, 0.9800])]"
      ]
     },
     "execution_count": 52,
     "metadata": {},
     "output_type": "execute_result"
    }
   ],
   "source": [
    "P = torch.tensor([ #xmin, ymin, xmax, ymax\n",
    "    [1, 1, 3, 3, 0.95],\n",
    "    [1, 1, 3, 4, 0.93],\n",
    "    [1, 0.9, 3.6, 3, 0.98],\n",
    "    [1, 0.9, 3.5, 3, 0.7]\n",
    "])\n",
    "nms(P, 0.9)"
   ]
  },
  {
   "cell_type": "code",
   "execution_count": 11,
   "id": "b7c36bf7",
   "metadata": {},
   "outputs": [],
   "source": [
    "import matplotlib.pyplot as plt\n",
    "import matplotlib.patches as patches\n"
   ]
  },
  {
   "cell_type": "code",
   "execution_count": 50,
   "id": "0078edb9",
   "metadata": {},
   "outputs": [
    {
     "data": {
      "image/png": "[encoded data removed]",
      "text/plain": [
       "<Figure size 432x288 with 1 Axes>"
      ]
     },
     "metadata": {
      "needs_background": "light"
     },
     "output_type": "display_data"
    }
   ],
   "source": [
    "import matplotlib\n",
    "import matplotlib.pyplot as plt\n",
    "  \n",
    "  \n",
    "fig = plt.figure()\n",
    "ax = fig.add_subplot(111)\n",
    "  \n",
    "rect1 = matplotlib.patches.Rectangle((1, 1),\n",
    "                                     2, 2,\n",
    "                                     color ='green')\n",
    "  \n",
    "# rect2 = matplotlib.patches.Rectangle((0, 150),\n",
    "#                                      300, 20,\n",
    "#                                      color ='pink')\n",
    "  \n",
    "# rect3 = matplotlib.patches.Rectangle((-300, -50),\n",
    "#                                      40, 200,\n",
    "#                                      color ='yellow')\n",
    "  \n",
    "ax.add_patch(rect1)\n",
    "# ax.add_patch(rect2)\n",
    "# ax.add_patch(rect3)\n",
    "  \n",
    "plt.xlim([-4, 4])\n",
    "plt.ylim([-4, 4])\n",
    "  \n",
    "plt.show()"
   ]
  },
  {
   "cell_type": "code",
   "execution_count": null,
   "id": "fecf8f84",
   "metadata": {},
   "outputs": [],
   "source": []
  }
 ],
 "metadata": {
  "kernelspec": {
   "display_name": "Python 3",
   "language": "python",
   "name": "python3"
  },
  "language_info": {
   "codemirror_mode": {
    "name": "ipython",
    "version": 3
   },
   "file_extension": ".py",
   "mimetype": "text/x-python",
   "name": "python",
   "nbconvert_exporter": "python",
   "pygments_lexer": "ipython3",
   "version": "3.8.10"
  }
 },
 "nbformat": 4,
 "nbformat_minor": 5
}
